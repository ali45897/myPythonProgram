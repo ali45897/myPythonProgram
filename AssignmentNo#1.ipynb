{
 "cells": [
  {
   "cell_type": "code",
   "execution_count": null,
   "id": "e2ce2f01",
   "metadata": {},
   "outputs": [],
   "source": [
    "'''Q1:Write a Python program to print the following string in a specific format(see the output).\n",
    "        Twinkle, twinkle, little star,\n",
    "                How I wonder what you are!\n",
    "                        Up above the world so high,\n",
    "                        Like a diamond in the sky.\n",
    "        Twinkle, twinkle, little star,\n",
    "                How I wonder what you are'''"
   ]
  },
  {
   "cell_type": "code",
   "execution_count": 1,
   "id": "0b9f155b",
   "metadata": {},
   "outputs": [
    {
     "name": "stdout",
     "output_type": "stream",
     "text": [
      "Twinkle, twinkle, little star,\n",
      "\tHow I wonder what you are! \n",
      "\t\tUp above the world so high, \n",
      "\t\tLike a diamond in the sky. \n",
      "Twinkle, twinkle, little star, \n",
      "\tHow I wonder what you are\n"
     ]
    }
   ],
   "source": [
    "print(\"Twinkle, twinkle, little star,\\n\\tHow I wonder what you are! \\n\\t\\tUp above the world so high, \\n\\t\\tLike a diamond in the sky. \\nTwinkle, twinkle, little star, \\n\\tHow I wonder what you are\")"
   ]
  },
  {
   "cell_type": "code",
   "execution_count": null,
   "id": "8c30fdf2",
   "metadata": {},
   "outputs": [],
   "source": [
    "'''Q2:Write a Python program to get the Python version you are using'''"
   ]
  },
  {
   "cell_type": "code",
   "execution_count": 2,
   "id": "0209a4ff",
   "metadata": {},
   "outputs": [
    {
     "name": "stdout",
     "output_type": "stream",
     "text": [
      "Python version\n",
      "3.8.8 (default, Apr 13 2021, 15:08:03) [MSC v.1916 64 bit (AMD64)]\n",
      "Version info.\n",
      "sys.version_info(major=3, minor=8, micro=8, releaselevel='final', serial=0)\n"
     ]
    }
   ],
   "source": [
    "import sys\n",
    "print(\"Python version\")\n",
    "print(sys.version)\n",
    "print(\"Version info.\")\n",
    "print(sys.version_info)"
   ]
  },
  {
   "cell_type": "code",
   "execution_count": null,
   "id": "0a51a003",
   "metadata": {},
   "outputs": [],
   "source": [
    "'''Q3:Write a Python program to display the current date and time.'''"
   ]
  },
  {
   "cell_type": "code",
   "execution_count": 3,
   "id": "ff068562",
   "metadata": {},
   "outputs": [
    {
     "name": "stdout",
     "output_type": "stream",
     "text": [
      "Current date and time: \n",
      "2022-01-01 18:46:36\n"
     ]
    }
   ],
   "source": [
    "import datetime\n",
    "now = datetime.datetime.now()\n",
    "print(\"Current date and time: \")\n",
    "print(now.strftime(\"%Y-%m-%d %H:%M:%S\"))"
   ]
  },
  {
   "cell_type": "code",
   "execution_count": null,
   "id": "36d910f8",
   "metadata": {},
   "outputs": [],
   "source": [
    "'''Q4:Write a Python program which accepts the radius of a circle from the user and compute the area.'''"
   ]
  },
  {
   "cell_type": "code",
   "execution_count": 4,
   "id": "1de2a1fb",
   "metadata": {},
   "outputs": [
    {
     "name": "stdout",
     "output_type": "stream",
     "text": [
      "Enter the radius of the circle: 78\n",
      "The area of the circle with radius 78.0 is: 19113.4497044403\n"
     ]
    }
   ],
   "source": [
    "from math import pi\n",
    "r = float(input(\"Enter the radius of the circle: \"))\n",
    "print(\"The area of the circle with radius \"+ str(r)+\" is: \"+str(pi*r**2))"
   ]
  },
  {
   "cell_type": "code",
   "execution_count": null,
   "id": "6188074e",
   "metadata": {},
   "outputs": [],
   "source": [
    "'''Q5:Write a Python program which accepts the user's first and last name and print them in reverse order with a space between them.'''"
   ]
  },
  {
   "cell_type": "code",
   "execution_count": 5,
   "id": "5250d531",
   "metadata": {},
   "outputs": [
    {
     "name": "stdout",
     "output_type": "stream",
     "text": [
      "Enter your First Name: Maryam\n",
      "Enter your Last Name: Ahmed Ali\n",
      "Ahmed Ali Maryam\n"
     ]
    }
   ],
   "source": [
    "fname = input(\"Enter your First Name: \")\n",
    "lname = input(\"Enter your Last Name: \")\n",
    "print(lname + \" \"+fname)"
   ]
  },
  {
   "cell_type": "code",
   "execution_count": null,
   "id": "a8ae071b",
   "metadata": {},
   "outputs": [],
   "source": [
    "'''Q6: Write a python program which takes two inputs from user and print them addition'''"
   ]
  },
  {
   "cell_type": "code",
   "execution_count": 6,
   "id": "256df193",
   "metadata": {},
   "outputs": [
    {
     "name": "stdout",
     "output_type": "stream",
     "text": [
      "Enter first number: 78\n",
      "Enter second number: 90\n",
      "The sum of 78 and 90 is 168.0\n"
     ]
    }
   ],
   "source": [
    "# Store input numbers\n",
    "num1 = input('Enter first number: ')\n",
    "num2 = input('Enter second number: ')\n",
    "\n",
    "# Add two numbers\n",
    "sum = float(num1) + float(num2)\n",
    "\n",
    "# Display the sum\n",
    "print('The sum of {0} and {1} is {2}'.format(num1, num2, sum))"
   ]
  },
  {
   "cell_type": "code",
   "execution_count": null,
   "id": "ad6cacd4",
   "metadata": {},
   "outputs": [],
   "source": []
  }
 ],
 "metadata": {
  "kernelspec": {
   "display_name": "Python 3",
   "language": "python",
   "name": "python3"
  },
  "language_info": {
   "codemirror_mode": {
    "name": "ipython",
    "version": 3
   },
   "file_extension": ".py",
   "mimetype": "text/x-python",
   "name": "python",
   "nbconvert_exporter": "python",
   "pygments_lexer": "ipython3",
   "version": "3.8.8"
  }
 },
 "nbformat": 4,
 "nbformat_minor": 5
}
